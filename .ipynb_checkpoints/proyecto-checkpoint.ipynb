{
 "cells": [
  {
   "cell_type": "code",
   "execution_count": 1,
   "id": "d0d660ca",
   "metadata": {},
   "outputs": [
    {
     "name": "stdout",
     "output_type": "stream",
     "text": [
      "Datos guardados correctamente en 'datos_inmobiliarios.xlsx'\n"
     ]
    }
   ],
   "source": [
    "import requests\n",
    "from bs4 import BeautifulSoup\n",
    "import pandas as pd\n",
    "\n",
    "url = \"https://www.laencontre.com.pe/venta/casas/lima-departamento/list\"\n",
    "\n",
    "response = requests.get(url)\n",
    "\n",
    "if response.status_code == 200:\n",
    "    soup = BeautifulSoup(response.content, 'html.parser')\n",
    "\n",
    "    # Obtener la lista de precios\n",
    "    precios_list = [div.text.strip() for div in soup.find_all('div', attrs={\"class\": \"price\"})]\n",
    "    \n",
    "    # Obtener la lista de ubicaciones\n",
    "    ubicaciones_list = [a.text.strip() for a in soup.find_all('a', attrs={\"class\": \"detail-redirection\"})]\n",
    "    \n",
    "    # Obtener la lista de áreas\n",
    "    areas_list = [span.text.strip() for span in soup.find_all('span', attrs={\"class\": \"areaBuilt\"})]\n",
    "    \n",
    "    # Obtener la lista de dormitorios\n",
    "    dormitorios_list = [span.text.strip() for span in soup.find_all('span', attrs={\"class\": \"rooms\"})]\n",
    "\n",
    "    # Crear un DataFrame con las listas\n",
    "    data = {'Precios': precios_list, 'Ubicaciones': ubicaciones_list, 'Áreas': areas_list, 'Dormitorios': dormitorios_list}\n",
    "    df = pd.DataFrame(data)\n",
    "\n",
    "    # Guardar el DataFrame en un archivo Excel\n",
    "    df.to_excel('datos_inmobiliarios.xlsx', index=False)\n",
    "\n",
    "    print(\"Datos guardados correctamente en 'datos_inmobiliarios.xlsx'\")\n",
    "else:\n",
    "    print(\"Error al acceder a la página. Código de estado:\", response.status_code)\n"
   ]
  },
  {
   "cell_type": "code",
   "execution_count": null,
   "id": "1bdafe45",
   "metadata": {},
   "outputs": [],
   "source": []
  }
 ],
 "metadata": {
  "kernelspec": {
   "display_name": "Python 3 (ipykernel)",
   "language": "python",
   "name": "python3"
  },
  "language_info": {
   "codemirror_mode": {
    "name": "ipython",
    "version": 3
   },
   "file_extension": ".py",
   "mimetype": "text/x-python",
   "name": "python",
   "nbconvert_exporter": "python",
   "pygments_lexer": "ipython3",
   "version": "3.11.4"
  }
 },
 "nbformat": 4,
 "nbformat_minor": 5
}
